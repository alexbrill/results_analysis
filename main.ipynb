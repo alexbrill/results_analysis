{
 "cells": [
  {
   "cell_type": "code",
   "execution_count": 343,
   "metadata": {
    "collapsed": true
   },
   "outputs": [],
   "source": [
    "import pandas as pd\n",
    "import numpy as np\n",
    "import matplotlib.pyplot as plt"
   ]
  },
  {
   "cell_type": "code",
   "execution_count": 344,
   "outputs": [
    {
     "data": {
      "text/plain": "   dim            p1        p2  p4\n0  2.0  4.070000e-05  0.000054 NaN\n1  2.0  1.130000e-06  0.000005 NaN\n2  2.0  6.670000e-07  0.000004 NaN\n3  2.0  7.140000e-07  0.000011 NaN\n4  2.0  7.090000e-07  0.000003 NaN",
      "text/html": "<div>\n<style scoped>\n    .dataframe tbody tr th:only-of-type {\n        vertical-align: middle;\n    }\n\n    .dataframe tbody tr th {\n        vertical-align: top;\n    }\n\n    .dataframe thead th {\n        text-align: right;\n    }\n</style>\n<table border=\"1\" class=\"dataframe\">\n  <thead>\n    <tr style=\"text-align: right;\">\n      <th></th>\n      <th>dim</th>\n      <th>p1</th>\n      <th>p2</th>\n      <th>p4</th>\n    </tr>\n  </thead>\n  <tbody>\n    <tr>\n      <th>0</th>\n      <td>2.0</td>\n      <td>4.070000e-05</td>\n      <td>0.000054</td>\n      <td>NaN</td>\n    </tr>\n    <tr>\n      <th>1</th>\n      <td>2.0</td>\n      <td>1.130000e-06</td>\n      <td>0.000005</td>\n      <td>NaN</td>\n    </tr>\n    <tr>\n      <th>2</th>\n      <td>2.0</td>\n      <td>6.670000e-07</td>\n      <td>0.000004</td>\n      <td>NaN</td>\n    </tr>\n    <tr>\n      <th>3</th>\n      <td>2.0</td>\n      <td>7.140000e-07</td>\n      <td>0.000011</td>\n      <td>NaN</td>\n    </tr>\n    <tr>\n      <th>4</th>\n      <td>2.0</td>\n      <td>7.090000e-07</td>\n      <td>0.000003</td>\n      <td>NaN</td>\n    </tr>\n  </tbody>\n</table>\n</div>"
     },
     "execution_count": 344,
     "metadata": {},
     "output_type": "execute_result"
    }
   ],
   "source": [
    "sdf = pd.read_csv(\"data/test_result.csv\", dtype=float)\n",
    "sdf.head()"
   ],
   "metadata": {
    "collapsed": false,
    "pycharm": {
     "name": "#%%\n"
    }
   }
  },
  {
   "cell_type": "code",
   "execution_count": 345,
   "outputs": [],
   "source": [
    "first = sdf[sdf.columns[0]].unique()"
   ],
   "metadata": {
    "collapsed": false,
    "pycharm": {
     "name": "#%%\n"
    }
   }
  },
  {
   "cell_type": "code",
   "execution_count": 346,
   "outputs": [],
   "source": [
    "other = []\n",
    "for j in range(1, len(sdf.columns)):\n",
    "    subother = []\n",
    "    for i in range(len(sdf[sdf.columns[j]]) // 5):\n",
    "        if not sdf[sdf.columns[j]][i*5]:\n",
    "            subother.append(sdf[sdf.columns[j]][i*5])\n",
    "        else:\n",
    "            subother.append(np.mean(sdf[sdf.columns[j]][i*5:i*5+5]))\n",
    "    other.append(subother)"
   ],
   "metadata": {
    "collapsed": false,
    "pycharm": {
     "name": "#%%\n"
    }
   }
  },
  {
   "cell_type": "code",
   "execution_count": 347,
   "outputs": [
    {
     "data": {
      "text/plain": "               p1        p2        p4\n2.0  8.784000e-06  0.000015       NaN\n3.0  9.856000e-07       NaN       NaN\n4.0  1.462000e-06  0.000004  0.000034\n5.0  2.274000e-06       NaN       NaN\n6.0  3.362000e-06  0.000003       NaN",
      "text/html": "<div>\n<style scoped>\n    .dataframe tbody tr th:only-of-type {\n        vertical-align: middle;\n    }\n\n    .dataframe tbody tr th {\n        vertical-align: top;\n    }\n\n    .dataframe thead th {\n        text-align: right;\n    }\n</style>\n<table border=\"1\" class=\"dataframe\">\n  <thead>\n    <tr style=\"text-align: right;\">\n      <th></th>\n      <th>p1</th>\n      <th>p2</th>\n      <th>p4</th>\n    </tr>\n  </thead>\n  <tbody>\n    <tr>\n      <th>2.0</th>\n      <td>8.784000e-06</td>\n      <td>0.000015</td>\n      <td>NaN</td>\n    </tr>\n    <tr>\n      <th>3.0</th>\n      <td>9.856000e-07</td>\n      <td>NaN</td>\n      <td>NaN</td>\n    </tr>\n    <tr>\n      <th>4.0</th>\n      <td>1.462000e-06</td>\n      <td>0.000004</td>\n      <td>0.000034</td>\n    </tr>\n    <tr>\n      <th>5.0</th>\n      <td>2.274000e-06</td>\n      <td>NaN</td>\n      <td>NaN</td>\n    </tr>\n    <tr>\n      <th>6.0</th>\n      <td>3.362000e-06</td>\n      <td>0.000003</td>\n      <td>NaN</td>\n    </tr>\n  </tbody>\n</table>\n</div>"
     },
     "execution_count": 347,
     "metadata": {},
     "output_type": "execute_result"
    }
   ],
   "source": [
    "df = pd.DataFrame(np.array([other[0], other[1], other[2]]).transpose(), index=first, columns=sdf.columns[1:])\n",
    "df.head()"
   ],
   "metadata": {
    "collapsed": false,
    "pycharm": {
     "name": "#%%\n"
    }
   }
  },
  {
   "cell_type": "code",
   "execution_count": 348,
   "outputs": [],
   "source": [
    "idx1 = (~df[df.columns[1]].isna())\n",
    "idx2 = (~df[df.columns[2]].isna())"
   ],
   "metadata": {
    "collapsed": false,
    "pycharm": {
     "name": "#%%\n"
    }
   }
  },
  {
   "cell_type": "code",
   "execution_count": 353,
   "outputs": [
    {
     "data": {
      "text/plain": "<Figure size 432x288 with 1 Axes>",
      "image/png": "[encoded data removed]"
     },
     "metadata": {
      "needs_background": "light"
     },
     "output_type": "display_data"
    }
   ],
   "source": [
    "fig, ax = plt.subplots()\n",
    "ax.set_ylabel(\"Time\")\n",
    "ax.set_xlabel(\"Matrix Dimension\")\n",
    "\n",
    "ax.plot(df[df.columns[0]][:10].index, df[df.columns[0]][:10])\n",
    "ax.plot(df[df.columns[1]][idx1][:10].index, df[df.columns[1]][idx1][:10])\n",
    "ax.plot(df[df.columns[2]][idx2][:10].index, df[df.columns[2]][idx2][:10])\n",
    "\n",
    "plt.show()"
   ],
   "metadata": {
    "collapsed": false,
    "pycharm": {
     "name": "#%%\n"
    }
   }
  },
  {
   "cell_type": "code",
   "execution_count": 354,
   "outputs": [],
   "source": [
    "plt.plot(df[df.columns[0]][:100].index, df[df.columns[0]][:100])\n",
    "plt.plot(df[df.columns[1]][idx1][:100].index, df[df.columns[1]][idx1][:100])\n",
    "plt.plot(df[df.columns[2]][idx2][:100].index, df[df.columns[2]][idx2][:100])\n",
    "\n",
    "plt.show()"
   ],
   "metadata": {
    "collapsed": false,
    "pycharm": {
     "name": "#%%\n"
    }
   }
  },
  {
   "cell_type": "code",
   "execution_count": 352,
   "outputs": [
    {
     "data": {
      "text/plain": "<Figure size 432x288 with 1 Axes>",
      "image/png": "[encoded data removed]"
     },
     "metadata": {
      "needs_background": "light"
     },
     "output_type": "display_data"
    }
   ],
   "source": [
    "plt.plot(df[df.columns[0]].index, df[df.columns[0]])\n",
    "plt.plot(df[df.columns[1]][idx1].index, df[df.columns[1]][idx1])\n",
    "plt.plot(df[df.columns[2]][idx2].index, df[df.columns[2]][idx2])\n",
    "\n",
    "plt.show()\n"
   ],
   "metadata": {
    "collapsed": false,
    "pycharm": {
     "name": "#%%\n"
    }
   }
  }
 ],
 "metadata": {
  "kernelspec": {
   "name": "pycharm-4d0e0800",
   "language": "python",
   "display_name": "PyCharm (dataAnalysis)"
  },
  "language_info": {
   "codemirror_mode": {
    "name": "ipython",
    "version": 2
   },
   "file_extension": ".py",
   "mimetype": "text/x-python",
   "name": "python",
   "nbconvert_exporter": "python",
   "pygments_lexer": "ipython2",
   "version": "2.7.6"
  }
 },
 "nbformat": 4,
 "nbformat_minor": 0
}